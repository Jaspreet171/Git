{
 "cells": [
  {
   "cell_type": "code",
   "execution_count": 1,
   "metadata": {},
   "outputs": [
    {
     "name": "stdout",
     "output_type": "stream",
     "text": [
      "Defaulting to user installation because normal site-packages is not writeable\n",
      "Collecting pyperclip\n",
      "  Downloading pyperclip-1.8.2.tar.gz (20 kB)\n",
      "  Installing build dependencies: started\n",
      "  Installing build dependencies: finished with status 'done'\n",
      "  Getting requirements to build wheel: started\n",
      "  Getting requirements to build wheel: finished with status 'done'\n",
      "  Preparing metadata (pyproject.toml): started\n",
      "  Preparing metadata (pyproject.toml): finished with status 'done'\n",
      "Building wheels for collected packages: pyperclip\n",
      "  Building wheel for pyperclip (pyproject.toml): started\n",
      "  Building wheel for pyperclip (pyproject.toml): finished with status 'done'\n",
      "  Created wheel for pyperclip: filename=pyperclip-1.8.2-py3-none-any.whl size=11136 sha256=80dd93e9087bb792984034f0b613967cf2147381dfb93926360f101f4fec22d6\n",
      "  Stored in directory: c:\\users\\asus\\appdata\\local\\pip\\cache\\wheels\\70\\bd\\ba\\8ae5c080c895c9360fe6e153acda2dee82527374467eae061b\n",
      "Successfully built pyperclip\n",
      "Installing collected packages: pyperclip\n",
      "Successfully installed pyperclip-1.8.2\n",
      "Note: you may need to restart the kernel to use updated packages.\n"
     ]
    },
    {
     "name": "stderr",
     "output_type": "stream",
     "text": [
      "DEPRECATION: Loading egg at c:\\program files\\python311\\lib\\site-packages\\vboxapi-1.0-py3.11.egg is deprecated. pip 23.3 will enforce this behaviour change. A possible replacement is to use pip for package installation..\n",
      "\n",
      "[notice] A new release of pip is available: 23.2.1 -> 24.0\n",
      "[notice] To update, run: python.exe -m pip install --upgrade pip\n"
     ]
    }
   ],
   "source": [
    "pip install pyperclip"
   ]
  },
  {
   "cell_type": "code",
   "execution_count": 8,
   "metadata": {},
   "outputs": [
    {
     "name": "stdout",
     "output_type": "stream",
     "text": [
      "\n",
      "Generated Password: ^WB.\\6J[\"HO\n",
      "\n",
      "Password copied to clipboard.\n",
      "Password pasted from clipboard.\n",
      "^WB.\\6J[\"HO\n"
     ]
    }
   ],
   "source": [
    "import random\n",
    "import string\n",
    "import pyperclip as pc\n",
    "\n",
    "def get_password_length():\n",
    "    try:\n",
    "        min_length = int(input(\"Enter the minimum length for the password: \"))\n",
    "        max_length = int(input(\"Enter the maximum length for the password: \"))\n",
    "\n",
    "        if min_length <= 0 or max_length <= 0:\n",
    "            print(\"Please enter positive values for minimum and maximum length.\")\n",
    "            return get_password_length()\n",
    "\n",
    "        if min_length > max_length:\n",
    "            print(\"Minimum length should be less than or equal to maximum length.\")\n",
    "            return get_password_length()\n",
    "\n",
    "        return min_length, max_length\n",
    "\n",
    "    except ValueError:\n",
    "        print(\"Invalid input. Please enter valid integers.\")\n",
    "        return get_password_length()\n",
    "\n",
    "def get_character_set():\n",
    "    include_upper = input(\"Include uppercase letters?(0/1) \")\n",
    "    include_lower = input(\"Include lowercase letters?(0/1) \")\n",
    "    include_digits = input(\"Include digits?(0/1) \")\n",
    "    include_special = input(\"Include special characters?(0/1) \")\n",
    "    include_space = input(\"Allow white spaces?(0/1) \")\n",
    "\n",
    "    characters = \"\"\n",
    "    \n",
    "    if include_upper == \"1\":\n",
    "        characters += string.ascii_uppercase\n",
    "    if include_lower == \"1\":\n",
    "        characters += string.ascii_lowercase\n",
    "    if include_digits == \"1\":\n",
    "        characters += string.digits\n",
    "    if include_special == \"1\":\n",
    "        characters += string.punctuation\n",
    "    if include_space == \"1\":\n",
    "        characters += \" \"\n",
    "\n",
    "    if not characters:\n",
    "        print(\"You must include at least one character set. Please try again.\")\n",
    "        return get_character_set()\n",
    "\n",
    "    return characters\n",
    "\n",
    "def generate_password(min_length, max_length, characters):\n",
    "    length = random.randint(min_length, max_length)\n",
    "    password = ''.join(random.choice(characters) for _ in range(length))\n",
    "    return password\n",
    "\n",
    "\n",
    "def main():\n",
    "    while True:\n",
    "        min_length, max_length = get_password_length()\n",
    "        character_set = get_character_set()\n",
    "\n",
    "        password = generate_password(min_length, max_length, character_set)\n",
    "        print(f\"\\nGenerated Password: {password}\\n\")\n",
    "\n",
    "        choice = input(\"Options:\\n1. Regenerate Password\\n2. Copy\\n3. Paste\\n4. Exit\\nEnter your choice\")\n",
    "        \n",
    "        if choice == '2':\n",
    "            pc.copy(password)\n",
    "            print(\"Password copied to clipboard.\")\n",
    "\n",
    "            want_to_paste = input(\"Do you want to paste the password here?(0/1) \")\n",
    "\n",
    "            if want_to_paste == \"1\":\n",
    "                clipboard_content = pc.paste()\n",
    "                print(\"Password pasted from clipboard.\")\n",
    "                print(clipboard_content)\n",
    "                break\n",
    "        \n",
    "        if choice == '3':\n",
    "            clipboard_content = pc.paste()\n",
    "            print(clipboard_content)\n",
    "            print(\"Password pasted from clipboard.\")\n",
    "            break\n",
    "\n",
    "        if choice == '4':\n",
    "            break\n",
    "\n",
    "if __name__ == \"__main__\":\n",
    "    main()"
   ]
  },
  {
   "cell_type": "code",
   "execution_count": null,
   "metadata": {},
   "outputs": [],
   "source": []
  }
 ],
 "metadata": {
  "kernelspec": {
   "display_name": "Python 3",
   "language": "python",
   "name": "python3"
  },
  "language_info": {
   "codemirror_mode": {
    "name": "ipython",
    "version": 3
   },
   "file_extension": ".py",
   "mimetype": "text/x-python",
   "name": "python",
   "nbconvert_exporter": "python",
   "pygments_lexer": "ipython3",
   "version": "3.11.1"
  }
 },
 "nbformat": 4,
 "nbformat_minor": 2
}
